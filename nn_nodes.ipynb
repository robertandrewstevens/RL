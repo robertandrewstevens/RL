{
 "cells": [
  {
   "cell_type": "markdown",
   "id": "972d7a3d",
   "metadata": {},
   "source": [
    "How to choose the number of hidden layers and nodes in a feedforward neural network?\n",
    "\n",
    "https://stats.stackexchange.com/questions/181/how-to-choose-the-number-of-hidden-layers-and-nodes-in-a-feedforward-neural-netw"
   ]
  },
  {
   "cell_type": "code",
   "execution_count": 4,
   "id": "dfef4885",
   "metadata": {},
   "outputs": [],
   "source": [
    "# import modules\n",
    "import numpy as np"
   ]
  },
  {
   "cell_type": "markdown",
   "id": "a2529b57",
   "metadata": {},
   "source": [
    "How many hidden layers and nodes?\n",
    "\n",
    "http://dstath.users.uth.gr/papers/IJRS2009_Stathakis.pdf\n",
    "\n",
    "2.1 Theoretical bounds of optimal topology\n",
    "\n",
    "Huang (2003) proved that in the two-hidden-layer case, with m output neurons, the number of hidden nodes that are enough to learn N samples with negligibly small error is given by"
   ]
  },
  {
   "cell_type": "code",
   "execution_count": 10,
   "id": "c1aab797",
   "metadata": {},
   "outputs": [
    {
     "data": {
      "text/plain": [
       "52"
      ]
     },
     "execution_count": 10,
     "metadata": {},
     "output_type": "execute_result"
    }
   ],
   "source": [
    "N = 14\n",
    "m = 46\n",
    "h = 2 * np.sqrt((m + 2) * N)\n",
    "round(h)"
   ]
  },
  {
   "cell_type": "markdown",
   "id": "136dbfab",
   "metadata": {},
   "source": [
    "Specifically, he suggests that the sufficient number of hidden nodes in the first\n",
    "layer is"
   ]
  },
  {
   "cell_type": "code",
   "execution_count": 8,
   "id": "69f2274f",
   "metadata": {},
   "outputs": [
    {
     "data": {
      "text/plain": [
       "27"
      ]
     },
     "execution_count": 8,
     "metadata": {},
     "output_type": "execute_result"
    }
   ],
   "source": [
    "h1 = np.sqrt((m + 2) * N) + 2 * np.sqrt(N / (m + 2))\n",
    "round(h1)"
   ]
  },
  {
   "cell_type": "code",
   "execution_count": null,
   "id": "dbeb1ddf",
   "metadata": {},
   "outputs": [],
   "source": [
    "and in the second it is"
   ]
  },
  {
   "cell_type": "code",
   "execution_count": 9,
   "id": "ece20789",
   "metadata": {},
   "outputs": [
    {
     "data": {
      "text/plain": [
       "25"
      ]
     },
     "execution_count": 9,
     "metadata": {},
     "output_type": "execute_result"
    }
   ],
   "source": [
    "h2 = m * np.sqrt(N / (m + 2))\n",
    "round(h2)"
   ]
  },
  {
   "cell_type": "markdown",
   "id": "ba3951f8",
   "metadata": {},
   "source": [
    "Also see\n",
    "\n",
    "Are there any rules of thumb for having some idea of what capacity a neural network needs to have for a given problem?\n",
    "\n",
    "https://ai.stackexchange.com/questions/18220/are-there-any-rules-of-thumb-for-having-some-idea-of-what-capacity-a-neural-netw?rq=1"
   ]
  },
  {
   "cell_type": "markdown",
   "id": "f959799e",
   "metadata": {},
   "source": [
    "@doug's answer has worked for me. There's one additional rule of thumb that helps for supervised learning problems. You can usually prevent over-fitting if you keep your number of neurons below:"
   ]
  },
  {
   "cell_type": "code",
   "execution_count": 1,
   "id": "e60e2f4c",
   "metadata": {},
   "outputs": [
    {
     "data": {
      "text/plain": [
       "0.1"
      ]
     },
     "execution_count": 1,
     "metadata": {},
     "output_type": "execute_result"
    }
   ],
   "source": [
    "N_i = 14 # number of input neurons.\n",
    "N_0 = 46 # number of output neurons.\n",
    "N_s = 12 # number of samples in training data set. (update every 12 steps for RL/SB3???)\n",
    "alpha = 2 # an arbitrary scaling factor usually 2-10.\n",
    "N_h = N_s / (alpha * (N_i + N_0))\n",
    "N_h"
   ]
  },
  {
   "cell_type": "markdown",
   "id": "ce30dce9",
   "metadata": {},
   "source": [
    "How to decide the number of hidden layers and nodes in a hidden layer?\n",
    "\n",
    "https://www.researchgate.net/post/How-to-decide-the-number-of-hidden-layers-and-nodes-in-a-hidden-layer\n",
    "\n",
    "\n",
    "The Number of Hidden Layers\n",
    "\n",
    "https://www.heatonresearch.com/2017/06/01/hidden-layers.html\n",
    "\n"
   ]
  },
  {
   "cell_type": "markdown",
   "id": "0c381267",
   "metadata": {},
   "source": [
    "FAQs\n",
    "\n",
    "Section - How many hidden layers should I use?\n",
    "\n",
    "http://www.faqs.org/faqs/ai-faq/neural-nets/part3/section-9.html\n",
    "\n",
    "Section - How many hidden units should I use?\n",
    "\n",
    "http://www.faqs.org/faqs/ai-faq/neural-nets/part3/section-10.html"
   ]
  }
 ],
 "metadata": {
  "kernelspec": {
   "display_name": "Python 3",
   "language": "python",
   "name": "python3"
  },
  "language_info": {
   "codemirror_mode": {
    "name": "ipython",
    "version": 3
   },
   "file_extension": ".py",
   "mimetype": "text/x-python",
   "name": "python",
   "nbconvert_exporter": "python",
   "pygments_lexer": "ipython3",
   "version": "3.7.7"
  }
 },
 "nbformat": 4,
 "nbformat_minor": 5
}
