{
  "nbformat": 4,
  "nbformat_minor": 0,
  "metadata": {
    "colab": {
      "name": "introduction-reinforcement-learning.ipynb",
      "provenance": [],
      "collapsed_sections": []
    },
    "kernelspec": {
      "name": "python3",
      "display_name": "Python 3"
    }
  },
  "cells": [
    {
      "cell_type": "markdown",
      "metadata": {
        "id": "pk_zxuF8KYxn"
      },
      "source": [
        "# Introduction to Reinforcement Learning\n",
        "\n",
        "https://www.datacamp.com/community/tutorials/introduction-reinforcement-learning\n",
        "\n",
        "Anubhav Singh, November 30th, 2018\n",
        "\n",
        "In this tutorial, you'll learn the basic concepts and terminologies of reinforcement learning. At the end of the tutorial, we'll discuss the epsilon-greedy algorithm for applying reinforcement learning based solutions.\n"
      ]
    },
    {
      "cell_type": "markdown",
      "metadata": {
        "id": "38TxO33cKVfu"
      },
      "source": [
        "## Table of Contents\n",
        "\n",
        "1. What is Reinforcement Learning?\n",
        "\n",
        "2. Reinforcement Learning vs. the rest\n",
        "\n",
        "3. Intuition to Reinforcement Learning\n",
        "\n",
        "4. Basic concepts and Terminology\n",
        "\n",
        "5. How Reinforcement Learning Works\n",
        "\n",
        "6. Simple Implementation\n",
        "\n",
        "7. Conclusion\n",
        "\n",
        "8. References and Links"
      ]
    },
    {
      "cell_type": "markdown",
      "metadata": {
        "id": "LGP4caFFKSdl"
      },
      "source": [
        "## What is Reinforcement Learning?\n",
        "\n",
        "Reinforcement learning in formal terms is a method of machine learning wherein the software agent learns to perform certain actions in an environment which lead it to maximum reward. It does so by exploration and exploitation of knowledge it learns by repeated trials of maximizing the reward."
      ]
    },
    {
      "cell_type": "markdown",
      "metadata": {
        "id": "qUXvvrFtKPck"
      },
      "source": [
        "## Reinforcement Learning vs. the rest\n",
        "\n",
        "Methods of machine learning, other than reinforcement learning are as shown below:\n",
        "\n",
        "    Machine Learning\n",
        "    |-- Supervised Learning\n",
        "    |   |-- Continuous value prediction\n",
        "    |   |-- Class/Label Prediction\n",
        "    |-- Unsupervised Learning\n",
        "    |   |-- Clustering/Labeling based on similarity\n",
        "    |-- Reinforcement Learning\n",
        "    |   |-- Agent learns to interact with environment to achieve a reward\n",
        "\n",
        "One can conclude that while supervised learning predicts continuous ranged values or discrete labels/classes based on the training it receives from examples with provided labels or values. Unsupervised learning tries to club together samples based on their similarity and determine discrete clusters.\n",
        "\n",
        "Reinforcement learning on the other hand, which is a subset of Unsupervised learning, performs learning very differently. It takes up the method of \"cause and effect\"."
      ]
    },
    {
      "cell_type": "markdown",
      "metadata": {
        "id": "tr6FN7PKKM3N"
      },
      "source": [
        "## Intuition to Reinforcement Learning\n",
        "\n",
        "Let us try to understand the previously stated formal definition by means of an example.\n",
        "\n",
        "Imagine you are supposed to cross an unknown field in the middle of a pitch black night without a torch. There can be pits and stones in the field, the position of those are unfamiliar to you. There's a simple rule - if you fall into a hole or hit a rock, you must start again from your initial point.\n",
        "\n",
        "- You start walking forward blindly, only counting the number of steps you take\n",
        "    + After x steps, you fall into a pit\n",
        "    + Your reward was x points since you walked that many steps\n",
        "\n",
        "- You start again from your initial position, but after x steps, you take a detour either left/right and again move forward\n",
        "    + You hit a stone after y steps\n",
        "    + This time your reward was y which is greater than x\n",
        "    + You decide to take this path again but with more caution\n",
        "\n",
        "- When you start again, you make a detour after x steps, another after y steps and manage to fall into another pit after z steps\n",
        "    + This time the reward was z points which was greater than y, and you decide that this is a good path to take again\n",
        "\n",
        "- You restart again, make the detours after x, y and z steps to reach the other side of the field\n",
        "    + Thus, you've learned to cross the field without the need of light"
      ]
    },
    {
      "cell_type": "markdown",
      "metadata": {
        "id": "si4UH5L6KJf0"
      },
      "source": [
        "## Basic Concept and Terminology"
      ]
    },
    {
      "cell_type": "markdown",
      "metadata": {
        "id": "-W-efpQoKG28"
      },
      "source": [
        "### Insight\n",
        "\n",
        "In the above example, you are the agent who is trying to walk across the field, which is the environment. Walking is the action the agent performs on the environment. The distance the agent walks acts as the reward. The agent tries to perform the action in such a way that the reward maximizes. This is how Reinforcement Learning works in a nutshell. The following figure puts it into a simple diagram:\n",
        "\n",
        "![](dct1_1.png){width=100%}\n",
        "\n",
        "And in the proper technical terms, and generalizing to fit more examples into it, the diagram becomes:\n",
        "\n",
        "![](dct1_2.png){width=100%}"
      ]
    },
    {
      "cell_type": "markdown",
      "metadata": {
        "id": "lkMUVxyeKCqE"
      },
      "source": [
        "### Terminology\n",
        "\n",
        "Some important terms related to reinforcement learning are:\n",
        "\n",
        "- Agent: a hypothetical entity which performs actions in an environment to gain some reward\n",
        "\n",
        "- Action (a): All the possible moves that the agent can take\n",
        "\n",
        "- Environment (e): A scenario the agent has to face\n",
        "\n",
        "- State (s): Current situation returned by the environment\n",
        "\n",
        "- Reward (R): An immediate return sent back from the environment to evaluate the last action by the agent\n",
        "\n",
        "- Policy (π): The strategy that the agent employs to determine next action based on the current state\n",
        "\n",
        "- Value (V): The expected long-term return with discount, as opposed to the short-term reward R\n",
        "    + V_π(s) is defined as the expected long-term return of the current state s under policy π\n",
        "\n",
        "- Q-value or action-value (Q): Q-value is similar to Value, except that it takes an extra parameter, the current action a\n",
        "    + Q_π(s, a) refers to the long-term return of the current state s, taking action a under policy π\n",
        "\n",
        "These terms are taken from Steeve Huang's post \"Introduction to Various Reinforcement Learning Algorithms. Part I (Q-Learning, SARSA, DQN, DDPG)\":\n",
        "\n",
        "https://towardsdatascience.com/introduction-to-various-reinforcement-learning-algorithms-i-q-learning-sarsa-dqn-ddpg-72a5e0cb6287"
      ]
    },
    {
      "cell_type": "markdown",
      "metadata": {
        "id": "In97JkB-J-v0"
      },
      "source": [
        "## How Reinforcement Learning Works\n",
        "\n",
        "There are majorly three approaches to implement a reinforcement learning algorithm. They are:\n",
        "\n",
        "- Value Based: in a value-based reinforcement learning method, you try to maximize a value function V(s)\n",
        "    + As defined in the terminology previously, Vπ(s) is the expected long-term return of the current state s under policy π\n",
        "    + Thus, V(s) is the value of reward which the agent expects to gain in the future upon starting at that state s\n",
        "\n",
        "    V_π(s) = E_π[R_t+1 + g R_t+2 + g^2 R_t+3 + ... | S_t = s]\n",
        "\n",
        "- Policy-based: in a policy-based reinforcement learning method, you try to come up with a policy such that the action performed at each state is optimal to gain maximum reward in the future\n",
        "    + Here, no value function is involved\n",
        "    + We know that the policy π determines the next action a at any state s\n",
        "    + There are two types of policy-based RL methods:\n",
        "\n",
        "1. Deterministic: at any state s, the same action a is produced by the policy π\n",
        "\n",
        "2. Stochastic: each action has a certain probability, given by the equation below:\n",
        "\n",
        "    Stochastic Policy: π(a | s) = P[A_t = a | S_t = s]\n",
        "\n",
        "- Model-Based: in this type of reinforcement learning, you create a virtual model for each environment, and the agent learns to perform in that specific environment\n",
        "    + Since the model differs for each environment, there is no singular solution or algorithm for this type"
      ]
    },
    {
      "cell_type": "markdown",
      "metadata": {
        "id": "JuiaBSL3Jn5N"
      },
      "source": [
        "## A Simple Implementation\n",
        "\n",
        "Reinforcement Learning comes with its own classic example - the Multi-Armed Bandit problem. Never heard? No worries! Here's what it is - assume you're at a casino and in a section with some slot machines. Let's say you're at a section with 10 slot machines in a row and it says \"Play for free! Max payout is 10 dollars\" Each slot machine is guaranteed to give you a reward between 0 and 10 dollars. Each slot machine has a different average payout, and you have to figure out which one gives the most average reward so that you can maximize your reward in the shortest time possible.\n",
        "\n",
        ">But why is it called the Multi-Armed Bandit problem? Think of the slot machine as a one-armed (single lever) bandit (because it generally steals your money!). Multiple slot machines, thus multi-armed bandit.\n",
        "\n",
        "And if you're still wondering, this is what a slot machine looks like:\n",
        "\n",
        "![Slot Machine, Source: Futurity](dct1_6.jpg){width=100%}\n",
        "\n",
        "One very obvious approach would be to pull the same lever every time. The probability of hitting the jackpot being very low, you'd mostly be losing money by doing this. Formally, this can be defined as a pure exploitation approach.\n",
        "\n",
        "Alternatively, you could pull the lever of each slot machine in hopes that at least one of them would hit the jackpot. This is another naive approach which would give you sub-optimal returns. Formally this approach is a pure exploration approach.\n",
        "\n",
        "ϵ (epsilon)-greedy algorithm\n",
        "\n",
        "One very famous approach to solving reinforcement learning problems is the ϵ (epsilon)-greedy algorithm, such that, with a probability ϵ, you will choose an action a at random (exploration), and the rest of the time (probability 1 − ϵ) you will select the best lever based on what you currently know from past plays (exploitation). So most of the time you play greedy, but sometimes you take some risks and choose a random lever and see what happens."
      ]
    },
    {
      "cell_type": "code",
      "metadata": {
        "id": "NebwYnhKHdu8"
      },
      "source": [
        "import numpy as np\n",
        "import random\n",
        "import matplotlib.pyplot as plt\n",
        "\n",
        "%matplotlib inline\n",
        "\n",
        "np.random.seed(5)"
      ],
      "execution_count": 1,
      "outputs": []
    },
    {
      "cell_type": "markdown",
      "metadata": {
        "id": "Ccx5Oj8yHp_c"
      },
      "source": [
        "First, import the necessary libraries and modules required to implement the algorithm."
      ]
    },
    {
      "cell_type": "code",
      "metadata": {
        "id": "JloWP--oHqqt"
      },
      "source": [
        "n = 10\n",
        "arms = np.random.rand(n)\n",
        "eps = 0.1  # Probability of exploration action"
      ],
      "execution_count": 2,
      "outputs": []
    },
    {
      "cell_type": "markdown",
      "metadata": {
        "id": "3uxbvzJZH1g2"
      },
      "source": [
        "You'll be solving the 10-armed bandit problem, hence n = 10. arms is a numpy array of length n filled with random floats that can be understood as probabilities of action of that arm."
      ]
    },
    {
      "cell_type": "code",
      "metadata": {
        "id": "FY_1estjH2kX"
      },
      "source": [
        "def reward(prob):\n",
        "    reward = 0\n",
        "    for i in range(10):\n",
        "        if random.random() < prob:\n",
        "            reward += 1\n",
        "    return reward"
      ],
      "execution_count": 3,
      "outputs": []
    },
    {
      "cell_type": "markdown",
      "metadata": {
        "id": "Fbt22zfPH6XT"
      },
      "source": [
        "The reward functions work as such - for each arm, you run a loop of 10 iterations, and generate a random float every time. If this random number is less than the probability of that arm, you'll add a 1 to the reward. After all iterations, you'll have a value between 0 to 10.\n",
        "\n",
        ">Why do you add a 1 only when the random number is less than the probability of that arm? Why not when it is more? The answer is, say you have a probability of 0.8 for an arm. You want 8 out of 10 times a positive response. That indicates that the positive response should be to the left of the probability value on the number line."
      ]
    },
    {
      "cell_type": "code",
      "metadata": {
        "id": "pGkycfhdH9Wx"
      },
      "source": [
        "# Initialize memory array; has 1 row defaulted to random action index\n",
        "# av = action-value\n",
        "av = np.array([np.random.randint(0, (n + 1)), 0]).reshape(1, 2) "
      ],
      "execution_count": 4,
      "outputs": []
    },
    {
      "cell_type": "code",
      "metadata": {
        "id": "f4ihZCVoIGSQ"
      },
      "source": [
        "# Greedy method to select best arm based on memory array\n",
        "def bestArm(a):\n",
        "    bestArm = 0  # Default to 0\n",
        "    bestMean = 0\n",
        "    for u in a:\n",
        "        avg = np.mean(a[np.where(a[:, 0] == u[0])][:, 1])  # Calculate mean reward for each action\n",
        "        if bestMean < avg:\n",
        "            bestMean = avg\n",
        "            bestArm = u[0]\n",
        "    return bestArm"
      ],
      "execution_count": 5,
      "outputs": []
    },
    {
      "cell_type": "markdown",
      "metadata": {
        "id": "ueJAZ1wNIB23"
      },
      "source": [
        "The next function you define is your greedy strategy of choosing the best arm so far. This function accepts a memory array that stores the history of all actions and their rewards. It is a 2 x k matrix where each row is an index reference to your arms array (1st element), and the reward received (2nd element). For example, if a row in your memory array is [2, 8], it means that action 2 was taken (the 3rd element in our arms array) and you received a reward of 8 for taking that action.\n",
        "\n",
        "And here is the main loop for each play. Let's play it 500 times and display a matplotlib scatter plot of the mean reward against the number of times the game is played."
      ]
    },
    {
      "cell_type": "code",
      "metadata": {
        "colab": {
          "base_uri": "https://localhost:8080/",
          "height": 279
        },
        "id": "jwl27Z8vIKTj",
        "outputId": "0923c189-4576-4e4e-8cc3-f1a68f784ceb"
      },
      "source": [
        "plt.xlabel(\"Number of times played\")\n",
        "plt.ylabel(\"Average Reward\")\n",
        "\n",
        "for i in range(500):\n",
        "    if random.random() > eps:  # Greedy exploitation action\n",
        "        choice = bestArm(av)\n",
        "        thisAV = np.array([[choice, reward(arms[choice])]])\n",
        "        av = np.concatenate((av, thisAV), axis=0)\n",
        "    else:  # Exploration action\n",
        "        choice = np.where(arms == np.random.choice(arms))[0][0]\n",
        "        thisAV = np.array([[choice, reward(arms[choice])]])  # Choice, reward\n",
        "        av = np.concatenate((av, thisAV), axis=0)  # Add to our action-value memory array\n",
        "    # Calculate the mean reward\n",
        "    runningMean = np.mean(av[:,1])\n",
        "    plt.scatter(i, runningMean)"
      ],
      "execution_count": 6,
      "outputs": [
        {
          "output_type": "display_data",
          "data": {
            "image/png": "[encoded data removed]",
            "text/plain": [
              "<Figure size 432x288 with 1 Axes>"
            ]
          },
          "metadata": {
            "tags": [],
            "needs_background": "light"
          }
        }
      ]
    },
    {
      "cell_type": "markdown",
      "metadata": {
        "id": "ROe6Rn0xIUB0"
      },
      "source": [
        "As expected, your agent learns to choose the arm which gives it the maximum average reward after several iterations of gameplay. Thus, you've implemented a straightforward reinforcement learning algorithm to solve the Multi-Arm Bandit problem.\n",
        "\n"
      ]
    },
    {
      "cell_type": "markdown",
      "metadata": {
        "id": "KVz-cTOGK5mz"
      },
      "source": [
        "## Conclusion\n",
        "\n",
        "Reinforcement learning is becoming more popular today due to its broad applicability to solving problems relating to real-world scenarios. It has found significant applications in the fields such as -\n",
        "\n",
        "- Game Theory and Multi-Agent Interaction: reinforcement learning has been used extensively to enable game playing by software\n",
        "    + A recent example would be Google's DeepMind (https://deepmind.com/), which was able to defeat the world's highest ranked Go player and later, the highest rated Chess program Komodo\n",
        "\n",
        "- Robotics: robots have often relied upon reinforcement learning to perform better in the environment they are presented with\n",
        "    + Reinforcement learning comes with the benefit of being a play and forget solution for robots which may have to face unknown or continually changing environments\n",
        "    + One well-known example is the Learning Robots by Google X project (https://x.company/projects/)\n",
        "\n",
        "- Vehicle navigation: vehicles learn to navigate the track better as they make re-runs on the track\n",
        "    + A proof of concept is presented in this video while a real-life world example was presented at the O'Reilly AI Conference in this video\n",
        "\n",
        "- Industrial Logistics: industry tasks are often automated with the help of reinforcement learning\n",
        "    + The software agent facilitating it gets better at its task as time passes\n",
        "    + BonsAI is a startup working to bring such AI to the industries\n",
        "\n",
        "There are many more reinforcement learning algorithms to explore and quite a few that perform better than the simple algorithm we've demonstrated above. Do check out the References and Links for some quick places to start with your exploration, and mix it with the exploitation of this tutorial to reinforce your learning of the topic.\n",
        "\n",
        "If you would like to learn more in Python, take DataCamp's 'Machine Learning for Time Series Data in Python' course:\n",
        "\n",
        "https://learn.datacamp.com/courses/machine-learning-for-time-series-data-in-python\n"
      ]
    },
    {
      "cell_type": "markdown",
      "metadata": {
        "id": "v234ZXLCJATy"
      },
      "source": [
        "## References and Links\n",
        "\n",
        "### References\n",
        "\n",
        "Sutton, Richard S. and Barto, Andrew G., Reinforcement Learning: An Introduction, MIT Press, 1998\n",
        "\n",
        "http://incompleteideas.net/book/the-book.html\n",
        "\n",
        "The Reinforcement Learning Repository, University of Massachusetts, Amherst\n",
        "\n",
        "https://all.cs.umass.edu/rlr/\n",
        "\n",
        "Wikipedia article on Reinforcement Learning\n",
        "\n",
        "https://en.wikipedia.org/wiki/Reinforcement_learning\n",
        "\n",
        "A Beginners Guide to Deep Reinforcement Learning\n",
        "\n",
        "https://skymind.ai/wiki/deep-reinforcement-learning [dead link]\n",
        "\n",
        "### Links\n",
        "\n",
        "If you still have doubts or wish to read up more about reinforcement learning, these links can be a great starting point:\n",
        "\n",
        "A Glossary of terms in Reinforcement Learning\n",
        "\n",
        "https://all.cs.umass.edu/rlr/terms.html\n",
        "\n",
        "Bibliography on Reinforcement Learning\n",
        "\n",
        "http://liinwww.ira.uka.de/bibliography/Neural/reinforcement.learning.html\n",
        "\n",
        "David J. Finton's Reinforcement Learning Page\n",
        "\n",
        "http://pages.cs.wisc.edu/~finton/rlpage.html\n",
        "\n",
        "Stanford University Andrew Ng Lecture on Reinforcement Learning\n",
        "\n",
        "https://www.youtube.com/watch?v=RtxI449ZjSc&feature=relmfu"
      ]
    }
  ]
}