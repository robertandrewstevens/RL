{
  "nbformat": 4,
  "nbformat_minor": 0,
  "metadata": {
    "colab": {
      "name": "Copy of 1_getting_started.ipynb",
      "provenance": [],
      "collapsed_sections": []
    },
    "kernelspec": {
      "name": "python3",
      "display_name": "Python 3"
    },
    "accelerator": "GPU"
  },
  "cells": [
    {
      "cell_type": "markdown",
      "metadata": {
        "id": "hyyN-2qyK_T2"
      },
      "source": [
        "# Stable Baselines3 Tutorial - Getting Started\n",
        "\n",
        "Github repo: https://github.com/araffin/rl-tutorial-jnrr19\n",
        "\n",
        "Stable-Baselines3: https://github.com/DLR-RM/stable-baselines3\n",
        "\n",
        "Documentation: https://stable-baselines.readthedocs.io/en/master/\n",
        "\n",
        "RL Baselines3 zoo: https://github.com/DLR-RM/rl-baselines3-zoo\n",
        "\n",
        "\n",
        "[RL Baselines3 Zoo](https://github.com/DLR-RM/rl-baselines3-zoo) is a collection of pre-trained Reinforcement Learning agents using Stable-Baselines3.\n",
        "\n",
        "It also provides basic scripts for training, evaluating agents, tuning hyperparameters and recording videos.\n",
        "\n",
        "\n",
        "## Introduction\n",
        "\n",
        "In this notebook, you will learn the basics for using stable baselines3 library: how to create a RL model, train it and evaluate it. Because all algorithms share the same interface, we will see how simple it is to switch from one algorithm to another.\n",
        "\n",
        "\n",
        "## Install Dependencies and Stable Baselines3 Using Pip\n",
        "\n",
        "List of full dependencies can be found in the [README](https://github.com/DLR-RM/stable-baselines3).\n",
        "\n",
        "\n",
        "```\n",
        "pip install stable-baselines3[extra]\n",
        "```"
      ]
    },
    {
      "cell_type": "code",
      "metadata": {
        "id": "gWskDE2c9WoN",
        "colab": {
          "base_uri": "https://localhost:8080/"
        },
        "outputId": "d50af823-9eed-4f40-e709-b04b87c1909b"
      },
      "source": [
        "!apt-get install ffmpeg freeglut3-dev xvfb  # For visualization\n",
        "!pip install stable-baselines3[extra]"
      ],
      "execution_count": null,
      "outputs": [
        {
          "output_type": "stream",
          "name": "stdout",
          "text": [
            "Reading package lists... Done\n",
            "Building dependency tree       \n",
            "Reading state information... Done\n",
            "freeglut3-dev is already the newest version (2.8.1-3).\n",
            "freeglut3-dev set to manually installed.\n",
            "ffmpeg is already the newest version (7:3.4.8-0ubuntu0.2).\n",
            "The following NEW packages will be installed:\n",
            "  xvfb\n",
            "0 upgraded, 1 newly installed, 0 to remove and 37 not upgraded.\n",
            "Need to get 784 kB of archives.\n",
            "After this operation, 2,270 kB of additional disk space will be used.\n",
            "Get:1 http://archive.ubuntu.com/ubuntu bionic-updates/universe amd64 xvfb amd64 2:1.19.6-1ubuntu4.9 [784 kB]\n",
            "Fetched 784 kB in 1s (793 kB/s)\n",
            "Selecting previously unselected package xvfb.\n",
            "(Reading database ... 155219 files and directories currently installed.)\n",
            "Preparing to unpack .../xvfb_2%3a1.19.6-1ubuntu4.9_amd64.deb ...\n",
            "Unpacking xvfb (2:1.19.6-1ubuntu4.9) ...\n",
            "Setting up xvfb (2:1.19.6-1ubuntu4.9) ...\n",
            "Processing triggers for man-db (2.8.3-2ubuntu0.1) ...\n",
            "Collecting stable-baselines3[extra]\n",
            "  Downloading stable_baselines3-1.3.0-py3-none-any.whl (174 kB)\n",
            "\u001b[K     |████████████████████████████████| 174 kB 5.3 MB/s \n",
            "\u001b[?25hRequirement already satisfied: pandas in /usr/local/lib/python3.7/dist-packages (from stable-baselines3[extra]) (1.1.5)\n",
            "Requirement already satisfied: torch>=1.8.1 in /usr/local/lib/python3.7/dist-packages (from stable-baselines3[extra]) (1.9.0+cu111)\n",
            "Requirement already satisfied: matplotlib in /usr/local/lib/python3.7/dist-packages (from stable-baselines3[extra]) (3.2.2)\n",
            "Requirement already satisfied: gym<0.20,>=0.17 in /usr/local/lib/python3.7/dist-packages (from stable-baselines3[extra]) (0.17.3)\n",
            "Requirement already satisfied: numpy in /usr/local/lib/python3.7/dist-packages (from stable-baselines3[extra]) (1.19.5)\n",
            "Requirement already satisfied: cloudpickle in /usr/local/lib/python3.7/dist-packages (from stable-baselines3[extra]) (1.3.0)\n",
            "Requirement already satisfied: psutil in /usr/local/lib/python3.7/dist-packages (from stable-baselines3[extra]) (5.4.8)\n",
            "Requirement already satisfied: opencv-python in /usr/local/lib/python3.7/dist-packages (from stable-baselines3[extra]) (4.1.2.30)\n",
            "Requirement already satisfied: tensorboard>=2.2.0 in /usr/local/lib/python3.7/dist-packages (from stable-baselines3[extra]) (2.6.0)\n",
            "Requirement already satisfied: atari-py~=0.2.0 in /usr/local/lib/python3.7/dist-packages (from stable-baselines3[extra]) (0.2.9)\n",
            "Requirement already satisfied: pillow in /usr/local/lib/python3.7/dist-packages (from stable-baselines3[extra]) (7.1.2)\n",
            "Requirement already satisfied: six in /usr/local/lib/python3.7/dist-packages (from atari-py~=0.2.0->stable-baselines3[extra]) (1.15.0)\n",
            "Requirement already satisfied: scipy in /usr/local/lib/python3.7/dist-packages (from gym<0.20,>=0.17->stable-baselines3[extra]) (1.4.1)\n",
            "Requirement already satisfied: pyglet<=1.5.0,>=1.4.0 in /usr/local/lib/python3.7/dist-packages (from gym<0.20,>=0.17->stable-baselines3[extra]) (1.5.0)\n",
            "Requirement already satisfied: future in /usr/local/lib/python3.7/dist-packages (from pyglet<=1.5.0,>=1.4.0->gym<0.20,>=0.17->stable-baselines3[extra]) (0.16.0)\n",
            "Requirement already satisfied: grpcio>=1.24.3 in /usr/local/lib/python3.7/dist-packages (from tensorboard>=2.2.0->stable-baselines3[extra]) (1.41.0)\n",
            "Requirement already satisfied: protobuf>=3.6.0 in /usr/local/lib/python3.7/dist-packages (from tensorboard>=2.2.0->stable-baselines3[extra]) (3.17.3)\n",
            "Requirement already satisfied: requests<3,>=2.21.0 in /usr/local/lib/python3.7/dist-packages (from tensorboard>=2.2.0->stable-baselines3[extra]) (2.23.0)\n",
            "Requirement already satisfied: absl-py>=0.4 in /usr/local/lib/python3.7/dist-packages (from tensorboard>=2.2.0->stable-baselines3[extra]) (0.12.0)\n",
            "Requirement already satisfied: google-auth-oauthlib<0.5,>=0.4.1 in /usr/local/lib/python3.7/dist-packages (from tensorboard>=2.2.0->stable-baselines3[extra]) (0.4.6)\n",
            "Requirement already satisfied: tensorboard-plugin-wit>=1.6.0 in /usr/local/lib/python3.7/dist-packages (from tensorboard>=2.2.0->stable-baselines3[extra]) (1.8.0)\n",
            "Requirement already satisfied: wheel>=0.26 in /usr/local/lib/python3.7/dist-packages (from tensorboard>=2.2.0->stable-baselines3[extra]) (0.37.0)\n",
            "Requirement already satisfied: werkzeug>=0.11.15 in /usr/local/lib/python3.7/dist-packages (from tensorboard>=2.2.0->stable-baselines3[extra]) (1.0.1)\n",
            "Requirement already satisfied: google-auth<2,>=1.6.3 in /usr/local/lib/python3.7/dist-packages (from tensorboard>=2.2.0->stable-baselines3[extra]) (1.35.0)\n",
            "Requirement already satisfied: markdown>=2.6.8 in /usr/local/lib/python3.7/dist-packages (from tensorboard>=2.2.0->stable-baselines3[extra]) (3.3.4)\n",
            "Requirement already satisfied: tensorboard-data-server<0.7.0,>=0.6.0 in /usr/local/lib/python3.7/dist-packages (from tensorboard>=2.2.0->stable-baselines3[extra]) (0.6.1)\n",
            "Requirement already satisfied: setuptools>=41.0.0 in /usr/local/lib/python3.7/dist-packages (from tensorboard>=2.2.0->stable-baselines3[extra]) (57.4.0)\n",
            "Requirement already satisfied: rsa<5,>=3.1.4 in /usr/local/lib/python3.7/dist-packages (from google-auth<2,>=1.6.3->tensorboard>=2.2.0->stable-baselines3[extra]) (4.7.2)\n",
            "Requirement already satisfied: cachetools<5.0,>=2.0.0 in /usr/local/lib/python3.7/dist-packages (from google-auth<2,>=1.6.3->tensorboard>=2.2.0->stable-baselines3[extra]) (4.2.4)\n",
            "Requirement already satisfied: pyasn1-modules>=0.2.1 in /usr/local/lib/python3.7/dist-packages (from google-auth<2,>=1.6.3->tensorboard>=2.2.0->stable-baselines3[extra]) (0.2.8)\n",
            "Requirement already satisfied: requests-oauthlib>=0.7.0 in /usr/local/lib/python3.7/dist-packages (from google-auth-oauthlib<0.5,>=0.4.1->tensorboard>=2.2.0->stable-baselines3[extra]) (1.3.0)\n",
            "Requirement already satisfied: importlib-metadata in /usr/local/lib/python3.7/dist-packages (from markdown>=2.6.8->tensorboard>=2.2.0->stable-baselines3[extra]) (4.8.1)\n",
            "Requirement already satisfied: pyasn1<0.5.0,>=0.4.6 in /usr/local/lib/python3.7/dist-packages (from pyasn1-modules>=0.2.1->google-auth<2,>=1.6.3->tensorboard>=2.2.0->stable-baselines3[extra]) (0.4.8)\n",
            "Requirement already satisfied: certifi>=2017.4.17 in /usr/local/lib/python3.7/dist-packages (from requests<3,>=2.21.0->tensorboard>=2.2.0->stable-baselines3[extra]) (2021.5.30)\n",
            "Requirement already satisfied: urllib3!=1.25.0,!=1.25.1,<1.26,>=1.21.1 in /usr/local/lib/python3.7/dist-packages (from requests<3,>=2.21.0->tensorboard>=2.2.0->stable-baselines3[extra]) (1.24.3)\n",
            "Requirement already satisfied: chardet<4,>=3.0.2 in /usr/local/lib/python3.7/dist-packages (from requests<3,>=2.21.0->tensorboard>=2.2.0->stable-baselines3[extra]) (3.0.4)\n",
            "Requirement already satisfied: idna<3,>=2.5 in /usr/local/lib/python3.7/dist-packages (from requests<3,>=2.21.0->tensorboard>=2.2.0->stable-baselines3[extra]) (2.10)\n",
            "Requirement already satisfied: oauthlib>=3.0.0 in /usr/local/lib/python3.7/dist-packages (from requests-oauthlib>=0.7.0->google-auth-oauthlib<0.5,>=0.4.1->tensorboard>=2.2.0->stable-baselines3[extra]) (3.1.1)\n",
            "Requirement already satisfied: typing-extensions in /usr/local/lib/python3.7/dist-packages (from torch>=1.8.1->stable-baselines3[extra]) (3.7.4.3)\n",
            "Requirement already satisfied: zipp>=0.5 in /usr/local/lib/python3.7/dist-packages (from importlib-metadata->markdown>=2.6.8->tensorboard>=2.2.0->stable-baselines3[extra]) (3.6.0)\n",
            "Requirement already satisfied: cycler>=0.10 in /usr/local/lib/python3.7/dist-packages (from matplotlib->stable-baselines3[extra]) (0.10.0)\n",
            "Requirement already satisfied: python-dateutil>=2.1 in /usr/local/lib/python3.7/dist-packages (from matplotlib->stable-baselines3[extra]) (2.8.2)\n",
            "Requirement already satisfied: kiwisolver>=1.0.1 in /usr/local/lib/python3.7/dist-packages (from matplotlib->stable-baselines3[extra]) (1.3.2)\n",
            "Requirement already satisfied: pyparsing!=2.0.4,!=2.1.2,!=2.1.6,>=2.0.1 in /usr/local/lib/python3.7/dist-packages (from matplotlib->stable-baselines3[extra]) (2.4.7)\n",
            "Requirement already satisfied: pytz>=2017.2 in /usr/local/lib/python3.7/dist-packages (from pandas->stable-baselines3[extra]) (2018.9)\n",
            "Installing collected packages: stable-baselines3\n",
            "Successfully installed stable-baselines3-1.3.0\n"
          ]
        }
      ]
    },
    {
      "cell_type": "code",
      "metadata": {
        "id": "U29X1-B-AIKE",
        "colab": {
          "base_uri": "https://localhost:8080/",
          "height": 35
        },
        "outputId": "60a77046-b9e3-4b2e-d7bf-70ebc6e88e30"
      },
      "source": [
        "import stable_baselines3\n",
        "stable_baselines3.__version__"
      ],
      "execution_count": null,
      "outputs": [
        {
          "output_type": "execute_result",
          "data": {
            "application/vnd.google.colaboratory.intrinsic+json": {
              "type": "string"
            },
            "text/plain": [
              "'1.3.0'"
            ]
          },
          "metadata": {},
          "execution_count": 2
        }
      ]
    },
    {
      "cell_type": "markdown",
      "metadata": {
        "id": "FtY8FhliLsGm"
      },
      "source": [
        "## Imports"
      ]
    },
    {
      "cell_type": "markdown",
      "metadata": {
        "id": "gcX8hEcaUpR0"
      },
      "source": [
        "Stable-Baselines works on environments that follow the [gym interface](https://stable-baselines.readthedocs.io/en/master/guide/custom_env.html).\n",
        "You can find a list of available environment [here](https://gym.openai.com/envs/#classic_control).\n",
        "\n",
        "It is also recommended to check the [source code](https://github.com/openai/gym) to learn more about the observation and action space of each env, as gym does not have a proper documentation.\n",
        "Not all algorithms can work with all action spaces, you can find more in this [recap table](https://stable-baselines.readthedocs.io/en/master/guide/algos.html)"
      ]
    },
    {
      "cell_type": "code",
      "metadata": {
        "id": "BIedd7Pz9sOs"
      },
      "source": [
        "import gym\n",
        "import numpy as np"
      ],
      "execution_count": null,
      "outputs": []
    },
    {
      "cell_type": "markdown",
      "metadata": {
        "id": "Ae32CtgzTG3R"
      },
      "source": [
        "The first thing you need to import is the RL model, check the documentation to know what you can use on which problem"
      ]
    },
    {
      "cell_type": "code",
      "metadata": {
        "id": "R7tKaBFrTR0a"
      },
      "source": [
        "from stable_baselines3 import PPO"
      ],
      "execution_count": null,
      "outputs": []
    },
    {
      "cell_type": "markdown",
      "metadata": {
        "id": "-0_8OQbOTTNT"
      },
      "source": [
        "The next thing you need to import is the policy class that will be used to create the networks (for the policy/value functions).\n",
        "This step is optional as you can directly use strings in the constructor: \n",
        "\n",
        "```PPO('MlpPolicy', env)``` instead of ```PPO(MlpPolicy, env)```\n",
        "\n",
        "Note that some algorithms like `SAC` have their own `MlpPolicy`, that's why using string for the policy is the recommened option."
      ]
    },
    {
      "cell_type": "code",
      "metadata": {
        "id": "ROUJr675TT01"
      },
      "source": [
        "from stable_baselines3.ppo import MlpPolicy"
      ],
      "execution_count": null,
      "outputs": []
    },
    {
      "cell_type": "markdown",
      "metadata": {
        "id": "RapkYvTXL7Cd"
      },
      "source": [
        "## Create the Gym env and instantiate the agent\n",
        "\n",
        "For this example, we will use CartPole environment, a classic control problem.\n",
        "\n",
        "\"A pole is attached by an un-actuated joint to a cart, which moves along a frictionless track. The system is controlled by applying a force of +1 or -1 to the cart. The pendulum starts upright, and the goal is to prevent it from falling over. A reward of +1 is provided for every timestep that the pole remains upright. \"\n",
        "\n",
        "Cartpole environment: [https://gym.openai.com/envs/CartPole-v1/](https://gym.openai.com/envs/CartPole-v1/)\n",
        "\n",
        "![Cartpole](https://cdn-images-1.medium.com/max/1143/1*h4WTQNVIsvMXJTCpXm_TAw.gif)\n",
        "\n",
        "Note: vectorized environments allow to easily multiprocess training. In this example, we are using only one process, hence the DummyVecEnv.\n",
        "\n",
        "We chose the MlpPolicy because input of CartPole is a feature vector, not images.\n",
        "\n",
        "The type of action to use (discrete/continuous) will be automatically deduced from the environment action space\n",
        "\n",
        "\n",
        "Here we are using the [Proximal Policy Optimization](https://stable-baselines.readthedocs.io/en/master/modules/ppo2.html) algorithm, which is an Actor-Critic method: it uses a value function to improve the policy gradient descent (by reducing the variance).\n",
        "\n",
        "It combines ideas from [A2C](https://stable-baselines.readthedocs.io/en/master/modules/a2c.html) (having multiple workers and using an entropy bonus for exploration) and [TRPO](https://stable-baselines.readthedocs.io/en/master/modules/trpo.html) (it uses a trust region to improve stability and avoid catastrophic drops in performance).\n",
        "\n",
        "PPO is an on-policy algorithm, which means that the trajectories used to update the networks must be collected using the latest policy.\n",
        "It is usually less sample efficient than off-policy alorithms like [DQN](https://stable-baselines.readthedocs.io/en/master/modules/dqn.html), [SAC](https://stable-baselines.readthedocs.io/en/master/modules/sac.html) or [TD3](https://stable-baselines.readthedocs.io/en/master/modules/td3.html), but is much faster regarding wall-clock time.\n"
      ]
    },
    {
      "cell_type": "code",
      "metadata": {
        "id": "pUWGZp3i9wyf"
      },
      "source": [
        "env = gym.make('CartPole-v1')\n",
        "\n",
        "model = PPO(MlpPolicy, env, verbose=0)"
      ],
      "execution_count": null,
      "outputs": []
    },
    {
      "cell_type": "markdown",
      "metadata": {
        "id": "4efFdrQ7MBvl"
      },
      "source": [
        "We create a helper function to evaluate the agent:"
      ]
    },
    {
      "cell_type": "code",
      "metadata": {
        "id": "63M8mSKR-6Zt"
      },
      "source": [
        "def evaluate(model, num_episodes=100, deterministic=True):\n",
        "    \"\"\"\n",
        "    Evaluate a RL agent\n",
        "    :param model: (BaseRLModel object) the RL Agent\n",
        "    :param num_episodes: (int) number of episodes to evaluate it\n",
        "    :return: (float) Mean reward for the last num_episodes\n",
        "    \"\"\"\n",
        "    # This function will only work for a single Environment\n",
        "    env = model.get_env()\n",
        "    all_episode_rewards = []\n",
        "    for i in range(num_episodes):\n",
        "        episode_rewards = []\n",
        "        done = False\n",
        "        obs = env.reset()\n",
        "        while not done:\n",
        "            # _states are only useful when using LSTM policies\n",
        "            action, _states = model.predict(obs, deterministic=deterministic)\n",
        "            # here, action, rewards and dones are arrays\n",
        "            # because we are using vectorized env\n",
        "            obs, reward, done, info = env.step(action)\n",
        "            episode_rewards.append(reward)\n",
        "\n",
        "        all_episode_rewards.append(sum(episode_rewards))\n",
        "\n",
        "    mean_episode_reward = np.mean(all_episode_rewards)\n",
        "    print(\"Mean reward:\", mean_episode_reward, \"Num episodes:\", num_episodes)\n",
        "\n",
        "    return mean_episode_reward"
      ],
      "execution_count": null,
      "outputs": []
    },
    {
      "cell_type": "markdown",
      "metadata": {
        "id": "6hkyafs--gJz"
      },
      "source": [
        "In fact, Stable-Baselines3 already provides you with that helper:"
      ]
    },
    {
      "cell_type": "code",
      "metadata": {
        "id": "s6ZNldIR-fce"
      },
      "source": [
        "from stable_baselines3.common.evaluation import evaluate_policy"
      ],
      "execution_count": null,
      "outputs": []
    },
    {
      "cell_type": "markdown",
      "metadata": {
        "id": "zjEVOIY8NVeK"
      },
      "source": [
        "Let's evaluate the un-trained agent, this should be a random agent."
      ]
    },
    {
      "cell_type": "code",
      "metadata": {
        "id": "xDHLMA6NFk95",
        "colab": {
          "base_uri": "https://localhost:8080/"
        },
        "outputId": "a894d4c7-18b2-47dd-ce65-05d23899b164"
      },
      "source": [
        "# Use a separate environement for evaluation\n",
        "eval_env = gym.make('CartPole-v1')\n",
        "\n",
        "# Random Agent, before training\n",
        "mean_reward, std_reward = evaluate_policy(model, eval_env, n_eval_episodes=100)\n",
        "\n",
        "print(f\"mean_reward:{mean_reward:.2f} +/- {std_reward:.2f}\")"
      ],
      "execution_count": null,
      "outputs": [
        {
          "output_type": "stream",
          "name": "stderr",
          "text": [
            "/usr/local/lib/python3.7/dist-packages/stable_baselines3/common/evaluation.py:69: UserWarning: Evaluation environment is not wrapped with a ``Monitor`` wrapper. This may result in reporting modified episode lengths and rewards, if other wrappers happen to modify these. Consider wrapping environment first with ``Monitor`` wrapper.\n",
            "  UserWarning,\n"
          ]
        },
        {
          "output_type": "stream",
          "name": "stdout",
          "text": [
            "mean_reward:8.83 +/- 0.71\n"
          ]
        }
      ]
    },
    {
      "cell_type": "markdown",
      "metadata": {
        "id": "r5UoXTZPNdFE"
      },
      "source": [
        "## Train the agent and evaluate it"
      ]
    },
    {
      "cell_type": "code",
      "metadata": {
        "id": "e4cfSXIB-pTF",
        "colab": {
          "base_uri": "https://localhost:8080/"
        },
        "outputId": "14c446d6-e805-4c34-8468-989dba19d0e4"
      },
      "source": [
        "# Train the agent for 10000 steps\n",
        "model.learn(total_timesteps=10000)"
      ],
      "execution_count": null,
      "outputs": [
        {
          "output_type": "execute_result",
          "data": {
            "text/plain": [
              "<stable_baselines3.ppo.ppo.PPO at 0x7f68ac1c7090>"
            ]
          },
          "metadata": {},
          "execution_count": 10
        }
      ]
    },
    {
      "cell_type": "code",
      "metadata": {
        "id": "ygl_gVmV_QP7",
        "colab": {
          "base_uri": "https://localhost:8080/"
        },
        "outputId": "1a53433e-12de-4464-8bd8-4272beb58ed9"
      },
      "source": [
        "# Evaluate the trained agent\n",
        "mean_reward, std_reward = evaluate_policy(model, eval_env, n_eval_episodes=100)\n",
        "\n",
        "print(f\"mean_reward:{mean_reward:.2f} +/- {std_reward:.2f}\")"
      ],
      "execution_count": null,
      "outputs": [
        {
          "output_type": "stream",
          "name": "stderr",
          "text": [
            "/usr/local/lib/python3.7/dist-packages/stable_baselines3/common/evaluation.py:69: UserWarning: Evaluation environment is not wrapped with a ``Monitor`` wrapper. This may result in reporting modified episode lengths and rewards, if other wrappers happen to modify these. Consider wrapping environment first with ``Monitor`` wrapper.\n",
            "  UserWarning,\n"
          ]
        },
        {
          "output_type": "stream",
          "name": "stdout",
          "text": [
            "mean_reward:267.33 +/- 112.88\n"
          ]
        }
      ]
    },
    {
      "cell_type": "markdown",
      "metadata": {
        "id": "A00W6yY3NkHG"
      },
      "source": [
        "Apparently the training went well, the mean reward increased a lot ! "
      ]
    },
    {
      "cell_type": "markdown",
      "metadata": {
        "id": "xVm9QPNVwKXN"
      },
      "source": [
        "### Prepare video recording"
      ]
    },
    {
      "cell_type": "code",
      "metadata": {
        "id": "MPyfQxD5z26J"
      },
      "source": [
        "# Set up fake display; otherwise rendering will fail\n",
        "import os\n",
        "os.system(\"Xvfb :1 -screen 0 1024x768x24 &\")\n",
        "os.environ['DISPLAY'] = ':1'"
      ],
      "execution_count": null,
      "outputs": []
    },
    {
      "cell_type": "code",
      "metadata": {
        "id": "SLzXxO8VMD6N"
      },
      "source": [
        "import base64\n",
        "from pathlib import Path\n",
        "\n",
        "from IPython import display as ipythondisplay\n",
        "\n",
        "def show_videos(video_path='', prefix=''):\n",
        "  \"\"\"\n",
        "  Taken from https://github.com/eleurent/highway-env\n",
        "\n",
        "  :param video_path: (str) Path to the folder containing videos\n",
        "  :param prefix: (str) Filter the video, showing only the only starting with this prefix\n",
        "  \"\"\"\n",
        "  html = []\n",
        "  for mp4 in Path(video_path).glob(\"{}*.mp4\".format(prefix)):\n",
        "      video_b64 = base64.b64encode(mp4.read_bytes())\n",
        "      html.append('''<video alt=\"{}\" autoplay \n",
        "                    loop controls style=\"height: 400px;\">\n",
        "                    <source src=\"data:video/mp4;base64,{}\" type=\"video/mp4\" />\n",
        "                </video>'''.format(mp4, video_b64.decode('ascii')))\n",
        "  ipythondisplay.display(ipythondisplay.HTML(data=\"<br>\".join(html)))"
      ],
      "execution_count": null,
      "outputs": []
    },
    {
      "cell_type": "markdown",
      "metadata": {
        "id": "LTRNUfulOGaF"
      },
      "source": [
        "We will record a video using the [VecVideoRecorder](https://stable-baselines.readthedocs.io/en/master/guide/vec_envs.html#vecvideorecorder) wrapper, you will learn about those wrapper in the next notebook."
      ]
    },
    {
      "cell_type": "code",
      "metadata": {
        "id": "Trag9dQpOIhx"
      },
      "source": [
        "from stable_baselines3.common.vec_env import VecVideoRecorder, DummyVecEnv\n",
        "\n",
        "def record_video(env_id, model, video_length=500, prefix='', video_folder='videos/'):\n",
        "  \"\"\"\n",
        "  :param env_id: (str)\n",
        "  :param model: (RL model)\n",
        "  :param video_length: (int)\n",
        "  :param prefix: (str)\n",
        "  :param video_folder: (str)\n",
        "  \"\"\"\n",
        "  eval_env = DummyVecEnv([lambda: gym.make('CartPole-v1')])\n",
        "  # Start the video at step=0 and record 500 steps\n",
        "  eval_env = VecVideoRecorder(eval_env, video_folder=video_folder,\n",
        "                              record_video_trigger=lambda step: step == 0, video_length=video_length,\n",
        "                              name_prefix=prefix)\n",
        "\n",
        "  obs = eval_env.reset()\n",
        "  for _ in range(video_length):\n",
        "    action, _ = model.predict(obs)\n",
        "    obs, _, _, _ = eval_env.step(action)\n",
        "\n",
        "  # Close the video recorder\n",
        "  eval_env.close()"
      ],
      "execution_count": null,
      "outputs": []
    },
    {
      "cell_type": "markdown",
      "metadata": {
        "id": "KOObbeu5MMlR"
      },
      "source": [
        "### Visualize trained agent\n",
        "\n"
      ]
    },
    {
      "cell_type": "code",
      "metadata": {
        "id": "iATu7AiyMQW2",
        "colab": {
          "base_uri": "https://localhost:8080/"
        },
        "outputId": "fc30347c-2b1d-43b0-8cbf-3c9309163899"
      },
      "source": [
        "record_video('CartPole-v1', model, video_length=500, prefix='ppo-cartpole')"
      ],
      "execution_count": null,
      "outputs": [
        {
          "output_type": "stream",
          "name": "stdout",
          "text": [
            "Saving video to /content/videos/ppo-cartpole-step-0-to-step-500.mp4\n"
          ]
        }
      ]
    },
    {
      "cell_type": "code",
      "metadata": {
        "id": "-n4i-fW3NojZ",
        "colab": {
          "base_uri": "https://localhost:8080/",
          "height": 421
        },
        "outputId": "6d07dcc8-4599-48ed-8aea-2238428367d5"
      },
      "source": [
        "show_videos('videos', prefix='ppo')"
      ],
      "execution_count": null,
      "outputs": [
        {
          "output_type": "display_data",
          "data": {
            "text/html": [
              "<video alt=\"videos/ppo-cartpole-step-0-to-step-500.mp4\" autoplay \n",
              "                    loop controls style=\"height: 400px;\">\n",
              "                    <source src=\"data:video/mp4;base64,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\" type=\"video/mp4\" />\n",
              "                </video>"
            ],
            "text/plain": [
              "<IPython.core.display.HTML object>"
            ]
          },
          "metadata": {}
        }
      ]
    },
    {
      "cell_type": "markdown",
      "metadata": {
        "id": "9Y8zg4V566qD"
      },
      "source": [
        "## Bonus: Train a RL Model in One Line\n",
        "\n",
        "The policy class to use will be inferred and the environment will be automatically created. This works because both are [registered](https://stable-baselines.readthedocs.io/en/master/guide/quickstart.html)."
      ]
    },
    {
      "cell_type": "code",
      "metadata": {
        "id": "iaOPfOrwWEP4",
        "colab": {
          "base_uri": "https://localhost:8080/"
        },
        "outputId": "c86d5d7f-7d61-4792-8765-d3da77740b63"
      },
      "source": [
        "model = PPO('MlpPolicy', \"CartPole-v1\", verbose=1).learn(1000)"
      ],
      "execution_count": null,
      "outputs": [
        {
          "output_type": "stream",
          "name": "stdout",
          "text": [
            "Using cuda device\n",
            "Creating environment from the given name 'CartPole-v1'\n",
            "Wrapping the env with a `Monitor` wrapper\n",
            "Wrapping the env in a DummyVecEnv.\n",
            "---------------------------------\n",
            "| rollout/           |          |\n",
            "|    ep_len_mean     | 22.6     |\n",
            "|    ep_rew_mean     | 22.6     |\n",
            "| time/              |          |\n",
            "|    fps             | 548      |\n",
            "|    iterations      | 1        |\n",
            "|    time_elapsed    | 3        |\n",
            "|    total_timesteps | 2048     |\n",
            "---------------------------------\n"
          ]
        }
      ]
    },
    {
      "cell_type": "code",
      "metadata": {
        "id": "Se8SHBN17Fy4"
      },
      "source": [
        ""
      ],
      "execution_count": null,
      "outputs": []
    },
    {
      "cell_type": "markdown",
      "metadata": {
        "id": "FrI6f5fWnzp-"
      },
      "source": [
        "## Conclusion\n",
        "\n",
        "In this notebook we have seen:\n",
        "- how to define and train a RL model using stable baselines3, it takes only one line of code ;)\n"
      ]
    },
    {
      "cell_type": "code",
      "metadata": {
        "id": "73ji3gbNDkf7"
      },
      "source": [
        ""
      ],
      "execution_count": null,
      "outputs": []
    }
  ]
}